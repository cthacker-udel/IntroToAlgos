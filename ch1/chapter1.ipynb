{
 "cells": [
  {
   "cell_type": "markdown",
   "metadata": {},
   "source": [
    "**algorithm**: any well-defined computational procedure that takes some value, as *input*, and produces some value, or set of values, as *output*. Therefore, it is a sequence of computational steps that transform input into the output\n",
    "\n",
    "**computational problem**: Describes the desired input/output relationship."
   ]
  },
  {
   "cell_type": "markdown",
   "metadata": {},
   "source": [
    "##Exercises\n",
    "\n",
    "1.1-1: \n",
    "    Requires sorting: When a headquarters is looking for the store making the most, they sort them to determine that.\n",
    "    Requires shortest distance: When trying to find gas for your car, you typically try to find the closest gas station\n",
    "\n",
    "1.1-2:\n",
    "    # of times it finds correct result\n",
    "    # of iterations required to produce correct result\n",
    "    Correctness frequency with different inputs\n",
    "\n",
    "1.1-3:\n",
    "    Binary tree\n",
    "        Strengths: Not costly to find elements in, and add them to the tree\n",
    "        Weaknesses: Costly to remove\n",
    "    Linked List:\n",
    "        Strengths: Not costly to remove, and add\n",
    "        Weaknesses: Costly to find\n",
    "1.1-4:\n",
    "    Similar:\n",
    "        They are similar because the traveling-salesperson algorithm and the shortest-path are both trying to find the shortest path.\n",
    "    Different:\n",
    "        They are different because the traveling-salesperson algorithm takes in dynamic data, the input comes after the algorithm, not before. The shortest-path input comes before the algorithm, it could be considered \"static\", while the traveling-salesperson data could be considered \"dynamic\"\n",
    "1.1-5:\n",
    "    Only the best solution will do:\n",
    "        Finding the shortest distance between A and B with static input\n",
    "    Approximately:\n",
    "        Finding the shortest distance between A and B with dynamic input\n",
    "1.1-6:\n",
    "    Entire input is available beforehand:\n",
    "        Calculating the amount of bills to dispense the change\n",
    "    Entire input is available afterwards:\n",
    "        Calculating the optimal time to surf (depends on the weather, which can change dynamically)\n",
    "\n",
    "\n",
    "  \n",
    "\n"
   ]
  },
  {
   "cell_type": "markdown",
   "metadata": {},
   "source": [
    "1.2-1: An application that requires algorithmic content would definitely be googles search engine, it is optimized to scrape the web (as far as I know) in as little time as possible, and load all results for you to see. Humans **expect** the google searches to come quickly, or else they would look for another search engine.\n",
    "\n",
    "1.2.2: Insertion sort beats merge sort when n is 10, insertion sort requires 800 seconds, while merge sort requires 2126. However, on large datasets, merge sort still remains triumphant, for n = 100, insertion sort = 80000 and merge sort = 42520, and with n = 1000, insertion sort = 8000000 seconds, while merge sort = 637810\n",
    "\n",
    "1.2-3: If n = 100, then first computer runtime is 1000000, but the second computer runtime is 1125899906842624"
   ]
  },
  {
   "cell_type": "markdown",
   "metadata": {},
   "source": [
    "func | 1 second | 1 minute | 1 hour | 1 day | 1 month | 1 year | 1 century\n",
    "| -------- | ------- | ------- | ------- | ------- | ------- | ------- | -------- |\n",
    "| *lg n* | | | | | | | |\n",
    "|  | | | | | | | |"
   ]
  }
 ],
 "metadata": {
  "kernelspec": {
   "display_name": "Python 3.10.5 64-bit",
   "language": "python",
   "name": "python3"
  },
  "language_info": {
   "name": "python",
   "version": "3.10.5"
  },
  "orig_nbformat": 4,
  "vscode": {
   "interpreter": {
    "hash": "369f2c481f4da34e4445cda3fffd2e751bd1c4d706f27375911949ba6bb62e1c"
   }
  }
 },
 "nbformat": 4,
 "nbformat_minor": 2
}
