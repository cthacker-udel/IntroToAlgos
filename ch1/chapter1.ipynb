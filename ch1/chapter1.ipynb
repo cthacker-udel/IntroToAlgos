{
 "cells": [
  {
   "cell_type": "markdown",
   "metadata": {},
   "source": [
    "**algorithm**: any well-defined computational procedure that takes some value, as *input*, and produces some value, or set of values, as *output*. Therefore, it is a sequence of computational steps that transform input into the output\n",
    "\n",
    "**computational problem**: Describes the desired input/output relationship."
   ]
  },
  {
   "cell_type": "markdown",
   "metadata": {},
   "source": [
    "##Exercises\n",
    "\n",
    "1.1-1: \n",
    "    Requires sorting: When a headquarters is looking for the store making the most, they sort them to determine that.\n",
    "    Requires shortest distance: When trying to find gas for your car, you typically try to find the closest gas station\n",
    "\n",
    "1.1-2:\n",
    "    # of times it finds correct result\n",
    "    # of iterations required to produce correct result\n",
    "    Correctness frequency with different inputs\n",
    "\n",
    "1.1-3:\n",
    "    Binary tree\n",
    "        Strengths: Not costly to find elements in, and add them to the tree\n",
    "        Weaknesses: Costly to remove\n",
    "    Linked List:\n",
    "        Strengths: Not costly to remove, and add\n",
    "        Weaknesses: Costly to find\n",
    "1.1-4:\n",
    "    Similar:\n",
    "        They are similar because the traveling-salesperson algorithm and the shortest-path are both trying to find the shortest path.\n",
    "    Different:\n",
    "        They are different because the traveling-salesperson algorithm takes in dynamic data, the input comes after the algorithm, not before. The shortest-path input comes before the algorithm, it could be considered \"static\", while the traveling-salesperson data could be considered \"dynamic\"\n",
    "1.1-5:\n",
    "    Only the best solution will do:\n",
    "        Finding the shortest distance between A and B with static input\n",
    "    Approximately:\n",
    "        Finding the shortest distance between A and B with dynamic input\n",
    "1.1-6:\n",
    "    Entire input is available beforehand:\n",
    "        Calculating the amount of bills to dispense the change\n",
    "    Entire input is available afterwards:\n",
    "        Calculating the optimal time to surf (depends on the weather, which can change dynamically)\n",
    "\n",
    "\n",
    "  \n",
    "\n"
   ]
  }
 ],
 "metadata": {
  "kernelspec": {
   "display_name": "Python 3.10.7 64-bit (microsoft store)",
   "language": "python",
   "name": "python3"
  },
  "language_info": {
   "name": "python",
   "version": "3.10.7"
  },
  "orig_nbformat": 4,
  "vscode": {
   "interpreter": {
    "hash": "5cf72f962d6a38f51a56f56ea9918786c5a68c7773b5bcb6d1636544846cf3b7"
   }
  }
 },
 "nbformat": 4,
 "nbformat_minor": 2
}
