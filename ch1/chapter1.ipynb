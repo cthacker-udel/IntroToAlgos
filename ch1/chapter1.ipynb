{
 "cells": [
  {
   "cell_type": "markdown",
   "metadata": {},
   "source": [
    "**algorithm**: any well-defined computational procedure that takes some value, as *input*, and produces some value, or set of values, as *output*. Therefore, it is a sequence of computational steps that transform input into the output\n",
    "\n",
    "**computational problem**: Describes the desired input/output relationship."
   ]
  },
  {
   "cell_type": "markdown",
   "metadata": {},
   "source": [
    "##Exercises\n",
    "\n",
    "1.1-1: \n",
    "    Requires sorting: When a headquarters is looking for the store making the most, they sort them to determine that.\n",
    "    Requires shortest distance: When trying to find gas for your car, you typically try to find the closest gas station\n",
    "\n",
    "1.1-2:\n",
    "    # of times it finds correct result\n",
    "    # of iterations required to produce correct result\n",
    "    Correctness frequency with different inputs\n",
    "\n",
    "1.1-3:\n",
    "    Binary tree\n",
    "        Strengths: Not costly to find elements in, and add them to the tree\n",
    "        Weaknesses: Costly to remove\n",
    "    Linked List:\n",
    "        Strengths: Not costly to remove, and add\n",
    "        Weaknesses: Costly to find\n",
    "  \n",
    "\n"
   ]
  }
 ],
 "metadata": {
  "kernelspec": {
   "display_name": "Python 3.10.7 64-bit (microsoft store)",
   "language": "python",
   "name": "python3"
  },
  "language_info": {
   "name": "python",
   "version": "3.10.7"
  },
  "orig_nbformat": 4,
  "vscode": {
   "interpreter": {
    "hash": "5cf72f962d6a38f51a56f56ea9918786c5a68c7773b5bcb6d1636544846cf3b7"
   }
  }
 },
 "nbformat": 4,
 "nbformat_minor": 2
}
